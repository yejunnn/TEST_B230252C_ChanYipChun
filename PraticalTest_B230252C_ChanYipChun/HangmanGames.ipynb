{
 "cells": [
  {
   "cell_type": "code",
   "execution_count": null,
   "id": "665dcffc-da1f-4cc7-9277-336a1cb4a42d",
   "metadata": {},
   "outputs": [
    {
     "name": "stdout",
     "output_type": "stream",
     "text": [
      "\n",
      "        ------\n",
      "        |    |\n",
      "        |\n",
      "        |\n",
      "        |\n",
      "        |\n",
      "        |\n",
      "        --------\n",
      "        \n",
      "Current word:  _ _ _ _ _ _ _\n",
      "Incorrect guesses: 0\n"
     ]
    },
    {
     "name": "stdin",
     "output_type": "stream",
     "text": [
      "Guess a letter:  a\n"
     ]
    },
    {
     "name": "stdout",
     "output_type": "stream",
     "text": [
      "\n",
      "        ------\n",
      "        |    |\n",
      "        |\n",
      "        |\n",
      "        |\n",
      "        |\n",
      "        |\n",
      "        --------\n",
      "        \n",
      "Current word:  _ A _ _ _ A _\n",
      "Incorrect guesses: 0\n"
     ]
    },
    {
     "name": "stdin",
     "output_type": "stream",
     "text": [
      "Guess a letter:  d\n"
     ]
    },
    {
     "name": "stdout",
     "output_type": "stream",
     "text": [
      "\n",
      "        ------\n",
      "        |    |\n",
      "        |    O\n",
      "        |\n",
      "        |\n",
      "        |\n",
      "        |\n",
      "        --------\n",
      "        \n",
      "Current word:  _ A _ _ _ A _\n",
      "Incorrect guesses: 1\n"
     ]
    },
    {
     "name": "stdin",
     "output_type": "stream",
     "text": [
      "Guess a letter:  f\n"
     ]
    },
    {
     "name": "stdout",
     "output_type": "stream",
     "text": [
      "\n",
      "        ------\n",
      "        |    |\n",
      "        |    O\n",
      "        |    |\n",
      "        |\n",
      "        |\n",
      "        |\n",
      "        --------\n",
      "        \n",
      "Current word:  _ A _ _ _ A _\n",
      "Incorrect guesses: 2\n"
     ]
    },
    {
     "name": "stdin",
     "output_type": "stream",
     "text": [
      "Guess a letter:  h\n"
     ]
    },
    {
     "name": "stdout",
     "output_type": "stream",
     "text": [
      "\n",
      "        ------\n",
      "        |    |\n",
      "        |    O\n",
      "        |    |\n",
      "        |\n",
      "        |\n",
      "        |\n",
      "        --------\n",
      "        \n",
      "Current word:  H A _ _ _ A _\n",
      "Incorrect guesses: 2\n"
     ]
    },
    {
     "name": "stdin",
     "output_type": "stream",
     "text": [
      "Guess a letter:  j\n"
     ]
    },
    {
     "name": "stdout",
     "output_type": "stream",
     "text": [
      "\n",
      "        ------\n",
      "        |    |\n",
      "        |    O\n",
      "        |   /|\n",
      "        |\n",
      "        |\n",
      "        |\n",
      "        --------\n",
      "        \n",
      "Current word:  H A _ _ _ A _\n",
      "Incorrect guesses: 3\n"
     ]
    },
    {
     "name": "stdin",
     "output_type": "stream",
     "text": [
      "Guess a letter:  k\n"
     ]
    },
    {
     "name": "stdout",
     "output_type": "stream",
     "text": [
      "\n",
      "        ------\n",
      "        |    |\n",
      "        |    O\n",
      "        |   /|\\\n",
      "        |\n",
      "        |\n",
      "        |\n",
      "        --------\n",
      "        \n",
      "Current word:  H A _ _ _ A _\n",
      "Incorrect guesses: 4\n"
     ]
    },
    {
     "name": "stdin",
     "output_type": "stream",
     "text": [
      "Guess a letter:  l\n"
     ]
    },
    {
     "name": "stdout",
     "output_type": "stream",
     "text": [
      "\n",
      "        ------\n",
      "        |    |\n",
      "        |    O\n",
      "        |   /|        |   /\n",
      "        |\n",
      "        |\n",
      "        --------\n",
      "        \n",
      "Current word:  H A _ _ _ A _\n",
      "Incorrect guesses: 5\n"
     ]
    },
    {
     "name": "stdin",
     "output_type": "stream",
     "text": [
      "Guess a letter:  d\n"
     ]
    },
    {
     "name": "stdout",
     "output_type": "stream",
     "text": [
      "You already guessed that letter.\n",
      "\n",
      "        ------\n",
      "        |    |\n",
      "        |    O\n",
      "        |   /|        |   /\n",
      "        |\n",
      "        |\n",
      "        --------\n",
      "        \n",
      "Current word:  H A _ _ _ A _\n",
      "Incorrect guesses: 5\n"
     ]
    }
   ],
   "source": [
    "import random\n",
    "\n",
    "def hangman():\n",
    "\n",
    "    words = [\"programming\", \"hangman\", \"python\", \"eating\", \"computer\", \"chair\"]\n",
    "\n",
    "\n",
    "    word = random.choice(words).upper()\n",
    "\n",
    "\n",
    "    word_display = [\"_\"] * len(word)\n",
    "    incorrect_guesses = 0\n",
    "    max_incorrect_guesses = 6\n",
    "    guessed_letters = []\n",
    "\n",
    "    # Hangman visuals\n",
    "    hangman_stages = [\n",
    "        \"\"\"\n",
    "        ------\n",
    "        |    |\n",
    "        |\n",
    "        |\n",
    "        |\n",
    "        |\n",
    "        |\n",
    "        --------\n",
    "        \"\"\",\n",
    "        \"\"\"\n",
    "        ------\n",
    "        |    |\n",
    "        |    O\n",
    "        |\n",
    "        |\n",
    "        |\n",
    "        |\n",
    "        --------\n",
    "        \"\"\",\n",
    "        \"\"\"\n",
    "        ------\n",
    "        |    |\n",
    "        |    O\n",
    "        |    |\n",
    "        |\n",
    "        |\n",
    "        |\n",
    "        --------\n",
    "        \"\"\",\n",
    "        \"\"\"\n",
    "        ------\n",
    "        |    |\n",
    "        |    O\n",
    "        |   /|\n",
    "        |\n",
    "        |\n",
    "        |\n",
    "        --------\n",
    "        \"\"\",\n",
    "        \"\"\"\n",
    "        ------\n",
    "        |    |\n",
    "        |    O\n",
    "        |   /|\\\\\n",
    "        |\n",
    "        |\n",
    "        |\n",
    "        --------\n",
    "        \"\"\",\n",
    "        \"\"\"\n",
    "        ------\n",
    "        |    |\n",
    "        |    O\n",
    "        |   /|\\\\\n",
    "        |   /\n",
    "        |\n",
    "        |\n",
    "        --------\n",
    "        \"\"\",\n",
    "        \"\"\"\n",
    "        ------\n",
    "        |    |\n",
    "        |    O\n",
    "        |   /|\\\\\n",
    "        |   / \\\\\n",
    "        |\n",
    "        |\n",
    "        --------\n",
    "        \"\"\",\n",
    "    ]\n",
    "\n",
    "    #Game Loop\n",
    "    while incorrect_guesses < max_incorrect_guesses and \"_\" in word_display:\n",
    "        print(hangman_stages[incorrect_guesses])\n",
    "        print(\"Current word: \", \" \".join(word_display))\n",
    "        print(f\"Incorrect guesses: {incorrect_guesses}\")\n",
    "\n",
    "        guess = input(\"Guess a letter: \").upper()\n",
    "\n",
    "        if guess in guessed_letters:\n",
    "            print(\"You already guessed that letter.\")\n",
    "            continue\n",
    "\n",
    "        guessed_letters.append(guess)\n",
    "\n",
    "        if guess in word:\n",
    "            for index, letter in enumerate(word):\n",
    "                if letter == guess:\n",
    "                    word_display[index] = guess\n",
    "        else:\n",
    "            incorrect_guesses += 1\n",
    "\n",
    "    #End\n",
    "    if \"_\" not in word_display:\n",
    "        print(\"Congratulations! You guessed the word:\", word)\n",
    "    else:\n",
    "        print(hangman_stages[incorrect_guesses])\n",
    "        print(\"Sorry, you ran out of guesses. The word was:\", word)\n",
    "\n",
    "#Start\n",
    "hangman()\n"
   ]
  },
  {
   "cell_type": "code",
   "execution_count": null,
   "id": "a05f7374-9c4e-4215-bf97-2b6d72728a1f",
   "metadata": {},
   "outputs": [],
   "source": []
  }
 ],
 "metadata": {
  "kernelspec": {
   "display_name": "Python 3 (ipykernel)",
   "language": "python",
   "name": "python3"
  },
  "language_info": {
   "codemirror_mode": {
    "name": "ipython",
    "version": 3
   },
   "file_extension": ".py",
   "mimetype": "text/x-python",
   "name": "python",
   "nbconvert_exporter": "python",
   "pygments_lexer": "ipython3",
   "version": "3.11.7"
  }
 },
 "nbformat": 4,
 "nbformat_minor": 5
}
