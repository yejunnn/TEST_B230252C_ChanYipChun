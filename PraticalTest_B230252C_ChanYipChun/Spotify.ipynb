{
 "cells": [
  {
   "cell_type": "code",
   "execution_count": 9,
   "id": "a3a5336a-e14c-4054-8756-9e2ea802354e",
   "metadata": {},
   "outputs": [
    {
     "name": "stdout",
     "output_type": "stream",
     "text": [
      "<class 'pandas.core.frame.DataFrame'>\n",
      "RangeIndex: 32833 entries, 0 to 32832\n",
      "Data columns (total 23 columns):\n",
      " #   Column                    Non-Null Count  Dtype  \n",
      "---  ------                    --------------  -----  \n",
      " 0   track_id                  32833 non-null  object \n",
      " 1   track_name                32828 non-null  object \n",
      " 2   track_artist              32828 non-null  object \n",
      " 3   track_popularity          32833 non-null  int64  \n",
      " 4   track_album_id            32833 non-null  object \n",
      " 5   track_album_name          32828 non-null  object \n",
      " 6   track_album_release_date  32833 non-null  object \n",
      " 7   playlist_name             32833 non-null  object \n",
      " 8   playlist_id               32833 non-null  object \n",
      " 9   playlist_genre            32833 non-null  object \n",
      " 10  playlist_subgenre         32833 non-null  object \n",
      " 11  danceability              32833 non-null  float64\n",
      " 12  energy                    32833 non-null  float64\n",
      " 13  key                       32833 non-null  int64  \n",
      " 14  loudness                  32833 non-null  float64\n",
      " 15  mode                      32833 non-null  int64  \n",
      " 16  speechiness               32833 non-null  float64\n",
      " 17  acousticness              32833 non-null  float64\n",
      " 18  instrumentalness          32833 non-null  float64\n",
      " 19  liveness                  32833 non-null  float64\n",
      " 20  valence                   32833 non-null  float64\n",
      " 21  tempo                     32833 non-null  float64\n",
      " 22  duration_ms               32833 non-null  int64  \n",
      "dtypes: float64(9), int64(4), object(10)\n",
      "memory usage: 5.8+ MB\n"
     ]
    }
   ],
   "source": [
    "import pandas as pd\n",
    "\n",
    "\n",
    "spotify_data = pd.read_csv(\"spotify.csv\")\n",
    "spotify_data.info()\n"
   ]
  },
  {
   "cell_type": "code",
   "execution_count": 13,
   "id": "6afeb801-dbbc-4615-aa93-99084f1a45b8",
   "metadata": {},
   "outputs": [],
   "source": [
    "\n",
    "grouped_genre = spotify_data.groupby('playlist_genre')\n",
    "\n",
    "avg_loudness = grouped_genre.loudness.mean()\n",
    "avg_mode = grouped_genre.mode.mean()\n",
    "avg_speechiness = grouped_genre.speechiness.mean()\n",
    "avg_acousticness = grouped_genre.acousticness.mean()\n",
    "avg_instrumentalness = grouped_genre.instrumentalness.mean()\n",
    "avg_liveness = grouped_genre.liveness.mean()\n",
    "avg_valence = grouped_genre.valence.mean()\n",
    "avg_tempo = grouped_genre.tempo.mean()\n",
    "\n",
    "\n",
    "spotify_data['duration_minutes'] = spotify_data.duration_ms / (1000 * 60)\n",
    "avg_duration = grouped_genre.duration_minutes.mean()\n"
   ]
  },
  {
   "cell_type": "code",
   "execution_count": 15,
   "id": "58b340af-c6a7-40fa-a6b9-622903669079",
   "metadata": {},
   "outputs": [
    {
     "name": "stdout",
     "output_type": "stream",
     "text": [
      "Average statistics by genre have been saved to 'spotify_2017_genre_averages.csv'.\n"
     ]
    }
   ],
   "source": [
    "average_stats = pd.DataFrame({\n",
    "    'Average Loudness': avg_loudness,\n",
    "    'Average Mode': avg_mode,\n",
    "    'Average Speechiness': avg_speechiness,\n",
    "    'Average Acousticness': avg_acousticness,\n",
    "    'Average Instrumentalness': avg_instrumentalness,\n",
    "    'Average Liveness': avg_liveness,\n",
    "    'Average Valence': avg_valence,\n",
    "    'Average Tempo': avg_tempo,\n",
    "    'Average Duration (minutes)': avg_duration\n",
    "})\n",
    "\n",
    "\n",
    "average_stats.to_csv('spotify_2017_genre_averages.csv')\n",
    "print(\"Average statistics by genre have been saved to 'spotify_2017_genre_averages.csv'.\")\n"
   ]
  },
  {
   "cell_type": "code",
   "execution_count": 17,
   "id": "12e9e24d-6e92-4ee1-b56a-2d20ecf4a1a5",
   "metadata": {},
   "outputs": [
    {
     "name": "stdout",
     "output_type": "stream",
     "text": [
      "Predicted energy values: \n",
      "[0.916 0.815 0.931 ... 0.821 0.888 0.884]\n"
     ]
    }
   ],
   "source": [
    "from sklearn.tree import DecisionTreeRegressor\n",
    "\n",
    "\n",
    "spotify_features = [\"danceability\", \"loudness\", \"speechiness\", \"acousticness\", \n",
    "                    \"instrumentalness\", \"liveness\", \"valence\", \"tempo\", \"duration_minutes\"]\n",
    "X = spotify_data[spotify_features]\n",
    "y = spotify_data[\"energy\"]\n",
    "\n",
    "\n",
    "spotify_model = DecisionTreeRegressor(random_state=1)\n",
    "spotify_model.fit(X, y)\n",
    "\n",
    "\n",
    "predictions = spotify_model.predict(X)\n",
    "print(\"Predicted energy values: \")\n",
    "print(predictions)\n"
   ]
  },
  {
   "cell_type": "code",
   "execution_count": 19,
   "id": "5b5f0564-8687-4bd7-96bc-4d86bb721580",
   "metadata": {},
   "outputs": [
    {
     "name": "stdout",
     "output_type": "stream",
     "text": [
      "You are off by 0.0 energy units\n",
      "Validation Error (Mean Absolute Error):  0.08379742965038371\n"
     ]
    }
   ],
   "source": [
    "from sklearn.metrics import mean_absolute_error\n",
    "from sklearn.model_selection import train_test_split\n",
    "\n",
    "\n",
    "error = mean_absolute_error(y, predictions)\n",
    "print(\"You are off by\", round(error, 2), \"energy units\")\n",
    "\n",
    "\n",
    "train_X, val_X, train_y, val_y = train_test_split(X, y, random_state=1)\n",
    "\n",
    "\n",
    "spotify_model = DecisionTreeRegressor(random_state=1)\n",
    "spotify_model.fit(train_X, train_y)\n",
    "val_predictions = spotify_model.predict(val_X)\n",
    "\n",
    "validation_error = mean_absolute_error(val_y, val_predictions)\n",
    "print(\"Validation Error (Mean Absolute Error): \", validation_error)\n"
   ]
  },
  {
   "cell_type": "code",
   "execution_count": 21,
   "id": "e965ef4f-07ad-4d5c-ae1d-939303fe64fa",
   "metadata": {},
   "outputs": [
    {
     "name": "stdout",
     "output_type": "stream",
     "text": [
      "Correlation matrix for danceability, energy, and other features:\n",
      "                  danceability    energy  loudness  speechiness  acousticness  \\\n",
      "danceability          1.000000 -0.086073  0.025335     0.181721     -0.024519   \n",
      "energy               -0.086073  1.000000  0.676625    -0.032150     -0.539745   \n",
      "loudness              0.025335  0.676625  1.000000     0.010339     -0.361638   \n",
      "speechiness           0.181721 -0.032150  0.010339     1.000000      0.026092   \n",
      "acousticness         -0.024519 -0.539745 -0.361638     0.026092      1.000000   \n",
      "instrumentalness     -0.008655  0.033247 -0.147824    -0.103424     -0.006850   \n",
      "liveness             -0.123859  0.161223  0.077613     0.055426     -0.077243   \n",
      "valence               0.330523  0.151103  0.053384     0.064659     -0.016845   \n",
      "tempo                -0.184084  0.149951  0.093767     0.044603     -0.112724   \n",
      "duration_minutes     -0.096879  0.012611 -0.115058    -0.089431     -0.081581   \n",
      "\n",
      "                  instrumentalness  liveness   valence     tempo  \\\n",
      "danceability             -0.008655 -0.123859  0.330523 -0.184084   \n",
      "energy                    0.033247  0.161223  0.151103  0.149951   \n",
      "loudness                 -0.147824  0.077613  0.053384  0.093767   \n",
      "speechiness              -0.103424  0.055426  0.064659  0.044603   \n",
      "acousticness             -0.006850 -0.077243 -0.016845 -0.112724   \n",
      "instrumentalness          1.000000 -0.005507 -0.175402  0.023335   \n",
      "liveness                 -0.005507  1.000000 -0.020560  0.021018   \n",
      "valence                  -0.175402 -0.020560  1.000000 -0.025732   \n",
      "tempo                     0.023335  0.021018 -0.025732  1.000000   \n",
      "duration_minutes          0.063235  0.006138 -0.032225 -0.001412   \n",
      "\n",
      "                  duration_minutes  \n",
      "danceability             -0.096879  \n",
      "energy                    0.012611  \n",
      "loudness                 -0.115058  \n",
      "speechiness              -0.089431  \n",
      "acousticness             -0.081581  \n",
      "instrumentalness          0.063235  \n",
      "liveness                  0.006138  \n",
      "valence                  -0.032225  \n",
      "tempo                    -0.001412  \n",
      "duration_minutes          1.000000  \n"
     ]
    }
   ],
   "source": [
    "\n",
    "correlation_matrix = spotify_data[[\"danceability\", \"energy\", \"loudness\", \"speechiness\", \"acousticness\", \n",
    "                                   \"instrumentalness\", \"liveness\", \"valence\", \"tempo\", \"duration_minutes\"]].corr()\n",
    "\n",
    "print(\"Correlation matrix for danceability, energy, and other features:\")\n",
    "print(correlation_matrix)\n"
   ]
  },
  {
   "cell_type": "code",
   "execution_count": null,
   "id": "e89b3d88-7988-483c-aa80-b2c9a8b51663",
   "metadata": {},
   "outputs": [],
   "source": []
  }
 ],
 "metadata": {
  "kernelspec": {
   "display_name": "Python 3 (ipykernel)",
   "language": "python",
   "name": "python3"
  },
  "language_info": {
   "codemirror_mode": {
    "name": "ipython",
    "version": 3
   },
   "file_extension": ".py",
   "mimetype": "text/x-python",
   "name": "python",
   "nbconvert_exporter": "python",
   "pygments_lexer": "ipython3",
   "version": "3.11.7"
  }
 },
 "nbformat": 4,
 "nbformat_minor": 5
}
